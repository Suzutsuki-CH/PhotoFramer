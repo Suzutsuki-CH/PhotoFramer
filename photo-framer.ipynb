{
 "cells": [
  {
   "cell_type": "code",
   "execution_count": 703,
   "metadata": {},
   "outputs": [],
   "source": [
    "from PIL import ImageFilter,ImageEnhance,ExifTags,Image\n",
    "from PIL import ImageDraw, ImageFont\n",
    "from PIL.ExifTags import TAGS\n",
    "import numpy as np"
   ]
  },
  {
   "cell_type": "code",
   "execution_count": 704,
   "metadata": {},
   "outputs": [],
   "source": [
    "import os\n",
    "sourceFolder = \"./source/\"\n",
    "PhotoList = os.listdir(sourceFolder)"
   ]
  },
  {
   "cell_type": "code",
   "execution_count": 706,
   "metadata": {},
   "outputs": [],
   "source": [
    "# path to the image or video\n",
    "imagename = PhotoList[2]\n",
    "# read the image data using PIL\n",
    "image = Image.open(sourceFolder + imagename)\n",
    "\n",
    "width = image.size[0]\n",
    "height = image.size[1]\n",
    "\n",
    "shrink_factor = 0.6514\n",
    "\n",
    "new_image = image.resize(np.array([int(width*shrink_factor),\n",
    "                                   int(height*shrink_factor)]))\n",
    "\n",
    "new_size = new_image.size"
   ]
  },
  {
   "cell_type": "code",
   "execution_count": 707,
   "metadata": {},
   "outputs": [],
   "source": [
    "# Extract Exif Data\n",
    "img_exif = image.getexif()\n",
    "\n",
    "# Loop all exif and save to a dictionary\n",
    "exif_dict = {}\n",
    "for ifd_key, ifd_value in img_exif.get_ifd(ExifTags.Base.ExifOffset).items():\n",
    "\n",
    "    ifd_tag_name = ExifTags.TAGS.get(ifd_key, ifd_key)\n",
    "    exif_dict.update({f\"{ifd_tag_name}\": ifd_value})\n",
    "    "
   ]
  },
  {
   "cell_type": "code",
   "execution_count": 708,
   "metadata": {},
   "outputs": [],
   "source": [
    "# iterating over all EXIF data fields\n",
    "for tag_id in img_exif:\n",
    "    # get the tag name, instead of human unreadable tag id\n",
    "    tag = TAGS.get(tag_id, tag_id)\n",
    "    data = img_exif.get(tag_id)\n",
    "    # decode bytes \n",
    "    if isinstance(data, bytes):\n",
    "        data = data.decode()\n",
    "    exif_dict.update({f\"{tag}\": data})"
   ]
  },
  {
   "cell_type": "code",
   "execution_count": 709,
   "metadata": {},
   "outputs": [
    {
     "name": "stdout",
     "output_type": "stream",
     "text": [
      "{'ExifVersion': b'0231', 'ShutterSpeedValue': 8.643856, 'ApertureValue': 2.970854, 'DateTimeOriginal': '2024:02:28 09:21:54', 'DateTimeDigitized': '2024:02:28 09:21:54', 'ExposureBiasValue': 0.0, 'MaxApertureValue': 3.0, 'MeteringMode': 5, 'LightSource': 9, 'Flash': 16, 'FocalLength': 80.0, 'ColorSpace': 1, 'WhiteBalance': 1, 'DigitalZoomRatio': 0.0, 'FocalPlaneXResolution': 8452.632507324219, 'FocalPlaneYResolution': 8452.632507324219, 'OffsetTime': '-06:00', 'OffsetTimeOriginal': '+08:00', 'OffsetTimeDigitized': '+08:00', 'SubsecTimeOriginal': '363', 'SubsecTimeDigitized': '363', 'FocalPlaneResolutionUnit': 3, 'SensingMethod': 2, 'FileSource': b'\\x03', 'ExposureTime': 0.0025, 'FNumber': 2.8, 'SceneType': b'\\x01', 'ExposureProgram': 3, 'CustomRendered': 0, 'ISOSpeedRatings': 1600, 'ExposureMode': 0, 'BodySerialNumber': 'XHL2004110015', 'LensModel': 'LUMIX G VARIO 35-100/F2.8II', 'LensSerialNumber': '0JG0AB201306', 'FocalLengthIn35mmFilm': 160, 'SceneCaptureType': 0, 'GainControl': 2, 'Contrast': 0, 'Saturation': 0, 'Sharpness': 0, 'ResolutionUnit': 2, 'ExifOffset': 216, 'Make': 'Panasonic', 'Model': 'DC-G9', 'Software': 'Adobe Photoshop Lightroom Classic 12.2.1 (Macintosh)', 'DateTime': '2024:03:01 00:08:42', 'XResolution': 240.0, 'YResolution': 240.0}\n"
     ]
    }
   ],
   "source": [
    "print(exif_dict)"
   ]
  },
  {
   "cell_type": "code",
   "execution_count": 710,
   "metadata": {},
   "outputs": [],
   "source": [
    "# Creating New Canvas\n",
    "scale = [1.15,1.35]\n",
    "canvas_size = [int(width*shrink_factor*scale[0]), int(height*shrink_factor*scale[1])]\n",
    "\n",
    "max_edge = max(canvas_size)\n",
    "\n",
    "canvas = Image.new('RGB', (canvas_size[0], canvas_size[1]), (255,255,219))"
   ]
  },
  {
   "cell_type": "code",
   "execution_count": 736,
   "metadata": {},
   "outputs": [],
   "source": [
    "# Creating Background\n",
    "enlarged_image = image.resize((int(max_edge/height*width),max_edge))\n",
    "\n",
    "\n",
    "enlarged_image_blurred = enlarged_image.filter(ImageFilter.GaussianBlur(25))\n",
    "\n",
    "enhancer = ImageEnhance.Brightness(enlarged_image_blurred)\n",
    "enlarged_image_blurred = enhancer.enhance(0.44)\n",
    "\n",
    "# crop image - (left, top, right, bottom)\n",
    "enlarged_size = enlarged_image_blurred.size\n",
    "\n",
    "left = 0\n",
    "right = canvas_size[0]\n",
    "top = (enlarged_size[1] - canvas_size[0])/2\n",
    "bottom = top + canvas_size[1]\n",
    "\n",
    "\n",
    "cropped = enlarged_image_blurred.crop((left, top, right, bottom))\n",
    "\n",
    "if not list(cropped.size) == canvas_size:\n",
    "    raise(\"False\")\n"
   ]
  },
  {
   "cell_type": "code",
   "execution_count": 737,
   "metadata": {},
   "outputs": [],
   "source": [
    "canvas.paste(cropped)\n",
    "\n",
    "position = [int(canvas_size[0]/2 - new_size[0]/2),int((canvas_size[1]/2 - new_size[1]/2)*0.5)]\n",
    "canvas.paste(new_image, (position[0], position[1]))"
   ]
  },
  {
   "cell_type": "code",
   "execution_count": 738,
   "metadata": {},
   "outputs": [],
   "source": [
    "# Custom font style and font size\n",
    "size1 = int(max(width*shrink_factor,height*shrink_factor)*(75/3376)+0.5)\n",
    "size2 = int(60/75*size1+0.5)\n",
    "size3 = int(260/75*size1+0.5)\n",
    "\n",
    "cmu_serif = ImageFont.truetype('./cmunui.ttf', size1)\n",
    "# cmu_bold = ImageFont.truetype('./cmunbx.ttf', 60)\n",
    "cmu_bold = ImageFont.truetype('./cmunsx.ttf', size2)\n",
    "cmu_tt = ImageFont.truetype('./cmuntt.ttf', size1)\n",
    "cmu_bold2 = ImageFont.truetype('./cmunbx.ttf',size3)\n",
    "\n",
    "# Setting Splitting\n",
    "split1 = int(80/75*size1+0.5)\n",
    "split2 = int(100/75*size1+0.5)\n",
    "\n",
    "text_top = np.array(position.copy()) + np.array([0,new_size[1]])\n",
    "\n",
    "# Adding texts\n",
    "canvas_draw = ImageDraw.Draw(canvas)\n",
    "# print(exif_dict[\"LensModel\"])\n",
    "\n",
    "# Lens Model\n",
    "canvas_draw.text((text_top[0], text_top[1]+split2+split1), text = exif_dict[\"Make\"] + \" \" + exif_dict[\"Model\"], font=cmu_bold, fill =(255, 255, 255))\n",
    "# Camera Make\n",
    "canvas_draw.text((text_top[0], text_top[1]+split2+split1*2), text = exif_dict[\"LensModel\"], font=cmu_bold, fill=(255, 255, 255))\n",
    "# Date & Time\n",
    "canvas_draw.text((text_top[0], text_top[1]+split2+split1*3), text = exif_dict[\"DateTime\"].replace(\":\", \"-\"), font=cmu_bold, fill=(255, 255, 255))\n",
    "\n",
    "w = int(split1/15+0.5)\n",
    "\n",
    "# Splitting Line\n",
    "canvas_draw.line(xy=[(text_top[0], text_top[1]+split2+split1*3+split2), \n",
    "                      (text_top[0]+int(12.5*split2), text_top[1]+split2+split1*3+split2)], \n",
    "                  width=w,\n",
    "                  fill=(255, 255, 255))\n",
    "\n",
    "# Photo Parameters\n",
    "exposure_t = \"1/\"\n",
    "\n",
    "if float(exif_dict[\"ExposureTime\"]) >= 1: \n",
    "    exposure_t = str(exif_dict[\"ExposureTime\"])[:-2]\n",
    "else:\n",
    "    exposure_t += str(int(1/exif_dict[\"ExposureTime\"]))\n",
    "\n",
    "\n",
    "canvas_draw.text((text_top[0], text_top[1]+split2+split1*3+split2), \n",
    "                 text = \"ISO \" + str(exif_dict[\"ISOSpeedRatings\"]) + \" | \" \n",
    "                 + \"F\" + str(exif_dict[\"FNumber\"]) + \" | \" \n",
    "                 + exposure_t + \" s\" + \" | \"\n",
    "                 + str(exif_dict[\"FocalLength\"])[:-2] + \" mm\",\n",
    "                 font=cmu_tt, fill =(255, 255, 255))\n",
    "\n",
    "# Logo Placeholder\n",
    "c_box = [(text_top[0] + width*shrink_factor, text_top[1] + int(1.5*split2)),\n",
    "            (text_top[0] + width*shrink_factor, text_top[1] + int(5.5*split2)),\n",
    "            (text_top[0] + width*shrink_factor - int(9*split2), text_top[1] + int(5.5*split2)),\n",
    "            (text_top[0] + width*shrink_factor - int(9*split2), text_top[1] + int(1.5*split2))]\n",
    "\n",
    "placeholder = False\n",
    "sign = False\n",
    "\n",
    "if placeholder:\n",
    "    canvas_draw.line(xy=[c_box[0], c_box[1]], width=w, fill=(255, 255, 255))\n",
    "    canvas_draw.line(xy=[c_box[1], c_box[2]], width=w, fill=(255, 255, 255))\n",
    "    canvas_draw.line(xy=[c_box[2], c_box[3]], width=w, fill=(255, 255, 255))\n",
    "    canvas_draw.line(xy=[c_box[3], c_box[0]], width=w, fill=(255, 255, 255))\n",
    "\n",
    "    canvas_draw.text(np.array(c_box[3]) + np.array([24,40]) , \n",
    "                    text = \"LOGO\",\n",
    "                    font=cmu_bold2, fill =(255, 255, 255))\n",
    "elif sign:\n",
    "    canvas_draw.text((np.array(c_box[2])[0], text_top[1]+split2+split1*3+split2), \n",
    "                    text = \"\\u00A9 Suzutsuki-CH\",\n",
    "                    font=cmu_serif, fill =(255, 255, 255))\n",
    "    \n",
    "\n"
   ]
  },
  {
   "cell_type": "code",
   "execution_count": 739,
   "metadata": {},
   "outputs": [],
   "source": [
    "canvas.save(f\"./output/{imagename[:-4]}_o.png\")"
   ]
  },
  {
   "cell_type": "code",
   "execution_count": null,
   "metadata": {},
   "outputs": [],
   "source": []
  }
 ],
 "metadata": {
  "kernelspec": {
   "display_name": "SuzuProj",
   "language": "python",
   "name": "python3"
  },
  "language_info": {
   "codemirror_mode": {
    "name": "ipython",
    "version": 3
   },
   "file_extension": ".py",
   "mimetype": "text/x-python",
   "name": "python",
   "nbconvert_exporter": "python",
   "pygments_lexer": "ipython3",
   "version": "3.10.9"
  }
 },
 "nbformat": 4,
 "nbformat_minor": 2
}
